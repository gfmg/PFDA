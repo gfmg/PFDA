{
 "cells": [
  {
   "cell_type": "code",
   "execution_count": 5,
   "metadata": {},
   "outputs": [
    {
     "data": {
      "text/plain": [
       "GAM(callbacks=['deviance', 'diffs'], distribution='poisson', \n",
       "   fit_intercept=True, link='log', max_iter=100, \n",
       "   terms=s(0) + te(3, 1) + s(2), tol=0.0001, verbose=False)"
      ]
     },
     "execution_count": 5,
     "metadata": {},
     "output_type": "execute_result"
    }
   ],
   "source": [
    "from pygam import GAM, s, te\n",
    "\n",
    "GAM(s(0, n_splines=200) + te(3,1) + s(2), distribution='poisson', link='log')"
   ]
  },
  {
   "cell_type": "code",
   "execution_count": 4,
   "metadata": {},
   "outputs": [
    {
     "ename": "AttributeError",
     "evalue": "'csc_matrix' object has no attribute 'A'",
     "output_type": "error",
     "traceback": [
      "\u001b[1;31m---------------------------------------------------------------------------\u001b[0m",
      "\u001b[1;31mAttributeError\u001b[0m                            Traceback (most recent call last)",
      "Cell \u001b[1;32mIn[4], line 11\u001b[0m\n\u001b[0;32m      7\u001b[0m np\u001b[38;5;241m.\u001b[39mbool \u001b[38;5;241m=\u001b[39m np\u001b[38;5;241m.\u001b[39mbool_\n\u001b[0;32m      9\u001b[0m X, y \u001b[38;5;241m=\u001b[39m chicago(return_X_y\u001b[38;5;241m=\u001b[39m\u001b[38;5;28;01mTrue\u001b[39;00m)\n\u001b[1;32m---> 11\u001b[0m gam \u001b[38;5;241m=\u001b[39m \u001b[43mPoissonGAM\u001b[49m\u001b[43m(\u001b[49m\u001b[43ms\u001b[49m\u001b[43m(\u001b[49m\u001b[38;5;241;43m0\u001b[39;49m\u001b[43m,\u001b[49m\u001b[43m \u001b[49m\u001b[43mn_splines\u001b[49m\u001b[38;5;241;43m=\u001b[39;49m\u001b[38;5;241;43m200\u001b[39;49m\u001b[43m)\u001b[49m\u001b[43m \u001b[49m\u001b[38;5;241;43m+\u001b[39;49m\u001b[43m \u001b[49m\u001b[43mte\u001b[49m\u001b[43m(\u001b[49m\u001b[38;5;241;43m3\u001b[39;49m\u001b[43m,\u001b[49m\u001b[43m \u001b[49m\u001b[38;5;241;43m1\u001b[39;49m\u001b[43m)\u001b[49m\u001b[43m \u001b[49m\u001b[38;5;241;43m+\u001b[39;49m\u001b[43m \u001b[49m\u001b[43ms\u001b[49m\u001b[43m(\u001b[49m\u001b[38;5;241;43m2\u001b[39;49m\u001b[43m)\u001b[49m\u001b[43m)\u001b[49m\u001b[38;5;241;43m.\u001b[39;49m\u001b[43mfit\u001b[49m\u001b[43m(\u001b[49m\u001b[43mX\u001b[49m\u001b[43m,\u001b[49m\u001b[43m \u001b[49m\u001b[43my\u001b[49m\u001b[43m)\u001b[49m\n",
      "File \u001b[1;32mc:\\Users\\Owner\\AppData\\Local\\Programs\\Python\\Python313\\Lib\\site-packages\\pygam\\pygam.py:2684\u001b[0m, in \u001b[0;36mPoissonGAM.fit\u001b[1;34m(self, X, y, exposure, weights)\u001b[0m\n\u001b[0;32m   2657\u001b[0m \u001b[38;5;250m\u001b[39m\u001b[38;5;124;03m\"\"\"Fit the generalized additive model.\u001b[39;00m\n\u001b[0;32m   2658\u001b[0m \n\u001b[0;32m   2659\u001b[0m \u001b[38;5;124;03mParameters\u001b[39;00m\n\u001b[1;32m   (...)\u001b[0m\n\u001b[0;32m   2681\u001b[0m \u001b[38;5;124;03m    Returns fitted GAM object\u001b[39;00m\n\u001b[0;32m   2682\u001b[0m \u001b[38;5;124;03m\"\"\"\u001b[39;00m\n\u001b[0;32m   2683\u001b[0m y, weights \u001b[38;5;241m=\u001b[39m \u001b[38;5;28mself\u001b[39m\u001b[38;5;241m.\u001b[39m_exposure_to_weights(y, exposure, weights)\n\u001b[1;32m-> 2684\u001b[0m \u001b[38;5;28;01mreturn\u001b[39;00m \u001b[38;5;28;43msuper\u001b[39;49m\u001b[43m(\u001b[49m\u001b[43mPoissonGAM\u001b[49m\u001b[43m,\u001b[49m\u001b[43m \u001b[49m\u001b[38;5;28;43mself\u001b[39;49m\u001b[43m)\u001b[49m\u001b[38;5;241;43m.\u001b[39;49m\u001b[43mfit\u001b[49m\u001b[43m(\u001b[49m\u001b[43mX\u001b[49m\u001b[43m,\u001b[49m\u001b[43m \u001b[49m\u001b[43my\u001b[49m\u001b[43m,\u001b[49m\u001b[43m \u001b[49m\u001b[43mweights\u001b[49m\u001b[43m)\u001b[49m\n",
      "File \u001b[1;32mc:\\Users\\Owner\\AppData\\Local\\Programs\\Python\\Python313\\Lib\\site-packages\\pygam\\pygam.py:920\u001b[0m, in \u001b[0;36mGAM.fit\u001b[1;34m(self, X, y, weights)\u001b[0m\n\u001b[0;32m    917\u001b[0m \u001b[38;5;28mself\u001b[39m\u001b[38;5;241m.\u001b[39mstatistics_[\u001b[38;5;124m'\u001b[39m\u001b[38;5;124mm_features\u001b[39m\u001b[38;5;124m'\u001b[39m] \u001b[38;5;241m=\u001b[39m X\u001b[38;5;241m.\u001b[39mshape[\u001b[38;5;241m1\u001b[39m]\n\u001b[0;32m    919\u001b[0m \u001b[38;5;66;03m# optimize\u001b[39;00m\n\u001b[1;32m--> 920\u001b[0m \u001b[38;5;28;43mself\u001b[39;49m\u001b[38;5;241;43m.\u001b[39;49m\u001b[43m_pirls\u001b[49m\u001b[43m(\u001b[49m\u001b[43mX\u001b[49m\u001b[43m,\u001b[49m\u001b[43m \u001b[49m\u001b[43my\u001b[49m\u001b[43m,\u001b[49m\u001b[43m \u001b[49m\u001b[43mweights\u001b[49m\u001b[43m)\u001b[49m\n\u001b[0;32m    921\u001b[0m \u001b[38;5;66;03m# if self._opt == 0:\u001b[39;00m\n\u001b[0;32m    922\u001b[0m \u001b[38;5;66;03m#     self._pirls(X, y, weights)\u001b[39;00m\n\u001b[0;32m    923\u001b[0m \u001b[38;5;66;03m# if self._opt == 1:\u001b[39;00m\n\u001b[0;32m    924\u001b[0m \u001b[38;5;66;03m#     self._pirls_naive(X, y)\u001b[39;00m\n\u001b[0;32m    925\u001b[0m \u001b[38;5;28;01mreturn\u001b[39;00m \u001b[38;5;28mself\u001b[39m\n",
      "File \u001b[1;32mc:\\Users\\Owner\\AppData\\Local\\Programs\\Python\\Python313\\Lib\\site-packages\\pygam\\pygam.py:686\u001b[0m, in \u001b[0;36mGAM._pirls\u001b[1;34m(self, X, Y, weights)\u001b[0m\n\u001b[0;32m    669\u001b[0m \u001b[38;5;28;01mdef\u001b[39;00m \u001b[38;5;21m_pirls\u001b[39m(\u001b[38;5;28mself\u001b[39m, X, Y, weights):\n\u001b[0;32m    670\u001b[0m \u001b[38;5;250m    \u001b[39m\u001b[38;5;124;03m\"\"\"\u001b[39;00m\n\u001b[0;32m    671\u001b[0m \u001b[38;5;124;03m    Performs stable PIRLS iterations to estimate GAM coefficients\u001b[39;00m\n\u001b[0;32m    672\u001b[0m \n\u001b[1;32m   (...)\u001b[0m\n\u001b[0;32m    684\u001b[0m \u001b[38;5;124;03m    None\u001b[39;00m\n\u001b[0;32m    685\u001b[0m \u001b[38;5;124;03m    \"\"\"\u001b[39;00m\n\u001b[1;32m--> 686\u001b[0m     modelmat \u001b[38;5;241m=\u001b[39m \u001b[38;5;28;43mself\u001b[39;49m\u001b[38;5;241;43m.\u001b[39;49m\u001b[43m_modelmat\u001b[49m\u001b[43m(\u001b[49m\u001b[43mX\u001b[49m\u001b[43m)\u001b[49m \u001b[38;5;66;03m# build a basis matrix for the GLM\u001b[39;00m\n\u001b[0;32m    687\u001b[0m     n, m \u001b[38;5;241m=\u001b[39m modelmat\u001b[38;5;241m.\u001b[39mshape\n\u001b[0;32m    689\u001b[0m     \u001b[38;5;66;03m# initialize GLM coefficients if model is not yet fitted\u001b[39;00m\n",
      "File \u001b[1;32mc:\\Users\\Owner\\AppData\\Local\\Programs\\Python\\Python313\\Lib\\site-packages\\pygam\\pygam.py:459\u001b[0m, in \u001b[0;36mGAM._modelmat\u001b[1;34m(self, X, term)\u001b[0m\n\u001b[0;32m    437\u001b[0m \u001b[38;5;250m\u001b[39m\u001b[38;5;124;03m\"\"\"\u001b[39;00m\n\u001b[0;32m    438\u001b[0m \u001b[38;5;124;03mBuilds a model matrix, B, out of the spline basis for each feature\u001b[39;00m\n\u001b[0;32m    439\u001b[0m \n\u001b[1;32m   (...)\u001b[0m\n\u001b[0;32m    453\u001b[0m \u001b[38;5;124;03m    containing model matrix of the spline basis for selected features\u001b[39;00m\n\u001b[0;32m    454\u001b[0m \u001b[38;5;124;03m\"\"\"\u001b[39;00m\n\u001b[0;32m    455\u001b[0m X \u001b[38;5;241m=\u001b[39m check_X(X, n_feats\u001b[38;5;241m=\u001b[39m\u001b[38;5;28mself\u001b[39m\u001b[38;5;241m.\u001b[39mstatistics_[\u001b[38;5;124m'\u001b[39m\u001b[38;5;124mm_features\u001b[39m\u001b[38;5;124m'\u001b[39m],\n\u001b[0;32m    456\u001b[0m             edge_knots\u001b[38;5;241m=\u001b[39m\u001b[38;5;28mself\u001b[39m\u001b[38;5;241m.\u001b[39medge_knots_, dtypes\u001b[38;5;241m=\u001b[39m\u001b[38;5;28mself\u001b[39m\u001b[38;5;241m.\u001b[39mdtype,\n\u001b[0;32m    457\u001b[0m             features\u001b[38;5;241m=\u001b[39m\u001b[38;5;28mself\u001b[39m\u001b[38;5;241m.\u001b[39mfeature, verbose\u001b[38;5;241m=\u001b[39m\u001b[38;5;28mself\u001b[39m\u001b[38;5;241m.\u001b[39mverbose)\n\u001b[1;32m--> 459\u001b[0m \u001b[38;5;28;01mreturn\u001b[39;00m \u001b[38;5;28;43mself\u001b[39;49m\u001b[38;5;241;43m.\u001b[39;49m\u001b[43mterms\u001b[49m\u001b[38;5;241;43m.\u001b[39;49m\u001b[43mbuild_columns\u001b[49m\u001b[43m(\u001b[49m\u001b[43mX\u001b[49m\u001b[43m,\u001b[49m\u001b[43m \u001b[49m\u001b[43mterm\u001b[49m\u001b[38;5;241;43m=\u001b[39;49m\u001b[43mterm\u001b[49m\u001b[43m)\u001b[49m\n",
      "File \u001b[1;32mc:\\Users\\Owner\\AppData\\Local\\Programs\\Python\\Python313\\Lib\\site-packages\\pygam\\terms.py:1719\u001b[0m, in \u001b[0;36mTermList.build_columns\u001b[1;34m(self, X, term, verbose)\u001b[0m\n\u001b[0;32m   1717\u001b[0m columns \u001b[38;5;241m=\u001b[39m []\n\u001b[0;32m   1718\u001b[0m \u001b[38;5;28;01mfor\u001b[39;00m term_id \u001b[38;5;129;01min\u001b[39;00m term:\n\u001b[1;32m-> 1719\u001b[0m     columns\u001b[38;5;241m.\u001b[39mappend(\u001b[38;5;28;43mself\u001b[39;49m\u001b[38;5;241;43m.\u001b[39;49m\u001b[43m_terms\u001b[49m\u001b[43m[\u001b[49m\u001b[43mterm_id\u001b[49m\u001b[43m]\u001b[49m\u001b[38;5;241;43m.\u001b[39;49m\u001b[43mbuild_columns\u001b[49m\u001b[43m(\u001b[49m\u001b[43mX\u001b[49m\u001b[43m,\u001b[49m\u001b[43m \u001b[49m\u001b[43mverbose\u001b[49m\u001b[38;5;241;43m=\u001b[39;49m\u001b[43mverbose\u001b[49m\u001b[43m)\u001b[49m)\n\u001b[0;32m   1720\u001b[0m \u001b[38;5;28;01mreturn\u001b[39;00m sp\u001b[38;5;241m.\u001b[39msparse\u001b[38;5;241m.\u001b[39mhstack(columns, \u001b[38;5;28mformat\u001b[39m\u001b[38;5;241m=\u001b[39m\u001b[38;5;124m'\u001b[39m\u001b[38;5;124mcsc\u001b[39m\u001b[38;5;124m'\u001b[39m)\n",
      "File \u001b[1;32mc:\\Users\\Owner\\AppData\\Local\\Programs\\Python\\Python313\\Lib\\site-packages\\pygam\\terms.py:1293\u001b[0m, in \u001b[0;36mTensorTerm.build_columns\u001b[1;34m(self, X, verbose)\u001b[0m\n\u001b[0;32m   1291\u001b[0m \u001b[38;5;28;01mfor\u001b[39;00m term \u001b[38;5;129;01min\u001b[39;00m \u001b[38;5;28mself\u001b[39m\u001b[38;5;241m.\u001b[39m_terms[\u001b[38;5;241m1\u001b[39m:]:\n\u001b[0;32m   1292\u001b[0m     marginal_splines \u001b[38;5;241m=\u001b[39m term\u001b[38;5;241m.\u001b[39mbuild_columns(X, verbose\u001b[38;5;241m=\u001b[39mverbose)\n\u001b[1;32m-> 1293\u001b[0m     splines \u001b[38;5;241m=\u001b[39m \u001b[43mtensor_product\u001b[49m\u001b[43m(\u001b[49m\u001b[43msplines\u001b[49m\u001b[43m,\u001b[49m\u001b[43m \u001b[49m\u001b[43mmarginal_splines\u001b[49m\u001b[43m)\u001b[49m\n\u001b[0;32m   1295\u001b[0m \u001b[38;5;28;01mif\u001b[39;00m \u001b[38;5;28mself\u001b[39m\u001b[38;5;241m.\u001b[39mby \u001b[38;5;129;01mis\u001b[39;00m \u001b[38;5;129;01mnot\u001b[39;00m \u001b[38;5;28;01mNone\u001b[39;00m:\n\u001b[0;32m   1296\u001b[0m     splines \u001b[38;5;241m*\u001b[39m\u001b[38;5;241m=\u001b[39m X[:, \u001b[38;5;28mself\u001b[39m\u001b[38;5;241m.\u001b[39mby][:, np\u001b[38;5;241m.\u001b[39mnewaxis]\n",
      "File \u001b[1;32mc:\\Users\\Owner\\AppData\\Local\\Programs\\Python\\Python313\\Lib\\site-packages\\pygam\\utils.py:872\u001b[0m, in \u001b[0;36mtensor_product\u001b[1;34m(a, b, reshape)\u001b[0m\n\u001b[0;32m    869\u001b[0m     \u001b[38;5;28;01mraise\u001b[39;00m \u001b[38;5;167;01mValueError\u001b[39;00m(\u001b[38;5;124m'\u001b[39m\u001b[38;5;124mboth arguments must have the same number of samples\u001b[39m\u001b[38;5;124m'\u001b[39m)\n\u001b[0;32m    871\u001b[0m \u001b[38;5;28;01mif\u001b[39;00m sp\u001b[38;5;241m.\u001b[39msparse\u001b[38;5;241m.\u001b[39missparse(a):\n\u001b[1;32m--> 872\u001b[0m     a \u001b[38;5;241m=\u001b[39m \u001b[43ma\u001b[49m\u001b[38;5;241;43m.\u001b[39;49m\u001b[43mA\u001b[49m\n\u001b[0;32m    874\u001b[0m \u001b[38;5;28;01mif\u001b[39;00m sp\u001b[38;5;241m.\u001b[39msparse\u001b[38;5;241m.\u001b[39missparse(b):\n\u001b[0;32m    875\u001b[0m     b \u001b[38;5;241m=\u001b[39m b\u001b[38;5;241m.\u001b[39mA\n",
      "\u001b[1;31mAttributeError\u001b[0m: 'csc_matrix' object has no attribute 'A'"
     ]
    }
   ],
   "source": [
    "from pygam import PoissonGAM, s, te\n",
    "from pygam.datasets import chicago\n",
    "import numpy as np\n",
    "\n",
    "np.int = np.int32\n",
    "np.float = np.float64\n",
    "np.bool = np.bool_\n",
    "\n",
    "X, y = chicago(return_X_y=True)\n",
    "\n",
    "gam = PoissonGAM(s(0, n_splines=200) + te(3, 1) + s(2)).fit(X, y)"
   ]
  }
 ],
 "metadata": {
  "kernelspec": {
   "display_name": "Python 3",
   "language": "python",
   "name": "python3"
  },
  "language_info": {
   "codemirror_mode": {
    "name": "ipython",
    "version": 3
   },
   "file_extension": ".py",
   "mimetype": "text/x-python",
   "name": "python",
   "nbconvert_exporter": "python",
   "pygments_lexer": "ipython3",
   "version": "3.13.1"
  }
 },
 "nbformat": 4,
 "nbformat_minor": 2
}
