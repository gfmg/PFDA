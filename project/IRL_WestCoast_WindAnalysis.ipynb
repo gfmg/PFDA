{
 "cells": [
  {
   "cell_type": "markdown",
   "metadata": {},
   "source": [
    "# Ireland Met Eireann West Coast Historical Wind Data Analysis <br/> Guillermo F. Martin Gonzalez"
   ]
  },
  {
   "cell_type": "markdown",
   "metadata": {},
   "source": [
    "# Introduction\n",
    "This notebooks contains all the analysis carried as part of the project for the 2024 **Programming for Data Analytics (PFDA)** course from the Atlantic Technical University. The project was set up quite open both in terms of the data to be used and the questions to be asked. I have followed the suggestion of downloading the historical wind data from the Met Eireann website (https://www.met.ie/climate/available-data/historical-data). I had never used wind or weather data in the past (I come from a fisheries data background), and found weather data to be quite interesting as weather patterns can be quite \n",
    "\n",
    "However, I have taken the assessment project a step further by downloading the data from three different weather stations in the West Coast of Ireland. "
   ]
  },
  {
   "cell_type": "markdown",
   "metadata": {},
   "source": [
    "# Data \n",
    "Three historical weather data `.csv` files were downloaded from the MetEireann website (above) belonging to the stations:\n",
    "\n",
    "- hly275\n",
    "- hly2275\n",
    "- hly2375\n",
    "\n",
    "The format of these `.csv` files was slightly different in the number of preliminary rows which described the column headers and the units of each column. In each of these files, we manually deleted this columns, and left the header as the first row. This was done to facilitate the loading of the data into Python. The data contained in this `.csv` files is decribed in the `KeyHourly.txt` file, but as a summary: \n",
    "\n",
    "- rain:Precipitation Amount (mm)\n",
    "- temp: Air Temperature (°C)\n",
    "- wetb: Wet Bulb Air Temperature (°C)\n",
    "- dewpt: Dew Point Air Temperature (°C)\t\t                 \n",
    "- vappr: Vapour Pressure (hpa)\n",
    "- rhum: Relative Humidity (%)\n",
    "- msl: Mean Sea Level Pressure (hPa)\n",
    "- wdsp: Mean Hourly Wind Speed (kt)\n",
    "- wddir: Predominant Hourly wind Direction (deg)\n",
    "- ww: Synop Code Present Weather - decode in `.txt`\n",
    "- w: Synop Code Past Weather - decode `.txt`\n",
    "- sun: Sunshine duration (hours)\n",
    "- vis: Visibility (m)\n",
    "- clht: Cloud Ceiling Height - if none value is 999 (100s feet)\n",
    "- clamt: Cloud Amount (okta)\n",
    "\n",
    "\n",
    "Additionally, we also downloaded the Station details from this website which contain useful information such as the location of the station or the opening year. "
   ]
  },
  {
   "cell_type": "code",
   "execution_count": 1,
   "metadata": {},
   "outputs": [],
   "source": [
    "# Loading libraries\n",
    "import pandas as pd\n",
    "import numpy as np \n",
    "import os, json \n",
    "import datetime as dt\n",
    "import matplotlib.pyplot as plt\n",
    "import matplotlib.cm as cm\n",
    "import windrose "
   ]
  },
  {
   "cell_type": "code",
   "execution_count": 2,
   "metadata": {},
   "outputs": [
    {
     "name": "stdout",
     "output_type": "stream",
     "text": [
      "['hly2375.csv', 'hly275.csv', 'hly2275.csv']\n"
     ]
    }
   ],
   "source": [
    "# Loading all .csv files in the data folder\n",
    "path_to_csv = './data'\n",
    "csv_files = ['hly2375.csv','hly275.csv','hly2275.csv']\n",
    "print(csv_files)\n",
    "\n",
    "# Initialize a list to store all data\n",
    "data_list = []\n"
   ]
  },
  {
   "cell_type": "code",
   "execution_count": 4,
   "metadata": {},
   "outputs": [
    {
     "name": "stderr",
     "output_type": "stream",
     "text": [
      "C:\\Users\\Owner\\AppData\\Local\\Temp\\ipykernel_17576\\2939649902.py:4: DtypeWarning: Columns (12,14,15,16,17,18,19,20) have mixed types. Specify dtype option on import or set low_memory=False.\n",
      "  tmp = pd.read_csv(csv_file)\n",
      "C:\\Users\\Owner\\AppData\\Local\\Temp\\ipykernel_17576\\2939649902.py:4: DtypeWarning: Columns (2,4,6,7,8,9,10,12,14) have mixed types. Specify dtype option on import or set low_memory=False.\n",
      "  tmp = pd.read_csv(csv_file)\n",
      "C:\\Users\\Owner\\AppData\\Local\\Temp\\ipykernel_17576\\2939649902.py:4: DtypeWarning: Columns (2,4,6,7,8,9,10,12,14,15,16,17,18,19,20) have mixed types. Specify dtype option on import or set low_memory=False.\n",
      "  tmp = pd.read_csv(csv_file)\n"
     ]
    }
   ],
   "source": [
    "#All .csv files seem to have the .ind column. The header of the data is ind + 2\n",
    "for index, d in enumerate(csv_files):\n",
    "    with open(os.path.join(path_to_csv, d)) as csv_file:\n",
    "        tmp = pd.read_csv(csv_file)\n",
    "        #tmp['Location'] = d.split('_')[0]\n",
    "        tmp['StId'] = d.split('.')[0].replace('hly', '')\n",
    "        data_list.append(tmp) \n",
    "\n",
    "data = pd.concat(data_list, ignore_index=True)        "
   ]
  },
  {
   "cell_type": "code",
   "execution_count": 5,
   "metadata": {},
   "outputs": [
    {
     "data": {
      "text/plain": [
       "array(['2375', '275', '2275'], dtype=object)"
      ]
     },
     "execution_count": 5,
     "metadata": {},
     "output_type": "execute_result"
    }
   ],
   "source": [
    "data['StId'].unique()"
   ]
  }
 ],
 "metadata": {
  "kernelspec": {
   "display_name": "Python 3",
   "language": "python",
   "name": "python3"
  },
  "language_info": {
   "codemirror_mode": {
    "name": "ipython",
    "version": 3
   },
   "file_extension": ".py",
   "mimetype": "text/x-python",
   "name": "python",
   "nbconvert_exporter": "python",
   "pygments_lexer": "ipython3",
   "version": "3.13.1"
  }
 },
 "nbformat": 4,
 "nbformat_minor": 2
}
