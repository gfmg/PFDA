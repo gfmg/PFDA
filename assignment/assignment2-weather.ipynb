{
 "cells": [
  {
   "cell_type": "code",
   "execution_count": null,
   "metadata": {},
   "outputs": [],
   "source": [
    "#!/usr/bin/env python\n",
    "# -*-coding:utf-8 -*-\n",
    "'''\n",
    "@File    :   assignment2-weather.ipynb\n",
    "@Time    :   2024/10/08 20:22:53\n",
    "@Author  :   Guillermo Martin\n",
    "@Version :   1.0\n",
    "@Personal email : gfmg1992@hotmail.com\n",
    "@Student email: G00438885@atu.ie\n",
    "@License :   (C)Copyright 2023, Guillermo Martin\n",
    "@Desc    :   First Assignment. Load metEirean weather data and make a nice plot \n",
    "'''\n",
    "#"
   ]
  },
  {
   "cell_type": "code",
   "execution_count": 2,
   "metadata": {},
   "outputs": [],
   "source": [
    "# First we import libraries we willl use\n",
    "import pandas as pd \n",
    "import matplotlib.pyplot as plt\n",
    "import matplotlib.dates as mdates"
   ]
  },
  {
   "cell_type": "code",
   "execution_count": null,
   "metadata": {},
   "outputs": [],
   "source": [
    "# We can now import the data from the repository \n",
    "# Although I could have imported it from a locally saved .csv file, I\n",
    "# saw that you can import it directly from an url, so I just imported it from Andrew's github directly\n",
    "#Reference: https://stackoverflow.com/questions/55240330/how-to-read-csv-file-from-github-using-pandas\n",
    "url = 'https://raw.githubusercontent.com/andrewbeattycourseware/PFDA-courseware/main/assignment/weatherreadings1.csv'\n",
    "df = pd.read_csv(url)\n",
    "#df.info()\n",
    "#Change Dates to DateTime formats\n",
    "df['reportEndDateTime'] = pd.to_datetime(df['reportEndDateTime']) #Change the column to DateTime format for plotting \n",
    "timediff= df['reportEndDateTime'].diff()\n",
    "timediff.min()\n",
    "#df.head(n=2) #Date every 15-30 minutes?"
   ]
  },
  {
   "cell_type": "code",
   "execution_count": null,
   "metadata": {},
   "outputs": [],
   "source": [
    "#Temperature columns (tc) in the data to loop over\n",
    "tc = df.filter(like='Temperature_Celsius', axis=1)\n",
    "tl = [x.replace('Temperature_Celsius', '') for x in tc] # Rename the labels to make them less redundant\n",
    "\n",
    "fig, ax = plt.subplots() #Define plot\n",
    "\n",
    "for i, col in enumerate(tc.columns): #Loop over the temperature columns\n",
    "    ax.plot(df['reportEndDateTime'], df[col], label=tl[i])\n",
    "\n",
    "ax.xaxis.set_major_locator(mdates.AutoDateLocator()) #Was not sure how to plot dates: https://matplotlib.org/stable/gallery/text_labels_and_annotations/date.html\n",
    "ax.xaxis.set_major_formatter(mdates.DateFormatter('%Y-%m-%d %H:%M')) #Format of the date as Year month Day, hour minute\n",
    "\n",
    "plt.xticks(rotation=45,ha='right') #45 degree labels for visualization \n",
    "ax.set(xlabel=\"Date\", ylabel=\"Temperature (Degree Celsius)\")\n",
    "ax.legend(loc=\"upper left\")\n",
    "plt.show()\n"
   ]
  },
  {
   "cell_type": "code",
   "execution_count": null,
   "metadata": {},
   "outputs": [],
   "source": []
  }
 ],
 "metadata": {
  "kernelspec": {
   "display_name": "Python 3",
   "language": "python",
   "name": "python3"
  },
  "language_info": {
   "codemirror_mode": {
    "name": "ipython",
    "version": 3
   },
   "file_extension": ".py",
   "mimetype": "text/x-python",
   "name": "python",
   "nbconvert_exporter": "python",
   "pygments_lexer": "ipython3",
   "version": "3.11.4"
  }
 },
 "nbformat": 4,
 "nbformat_minor": 2
}
